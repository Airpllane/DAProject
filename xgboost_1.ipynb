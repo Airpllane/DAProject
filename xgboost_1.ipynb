{
  "nbformat": 4,
  "nbformat_minor": 0,
  "metadata": {
    "colab": {
      "name": "Untitled13.ipynb",
      "provenance": [],
      "collapsed_sections": []
    },
    "kernelspec": {
      "name": "python3",
      "display_name": "Python 3"
    }
  },
  "cells": [
    {
      "cell_type": "code",
      "metadata": {
        "colab": {
          "base_uri": "https://localhost:8080/"
        },
        "id": "rNR6QFFvg94a",
        "outputId": "11004d51-acb6-4cf3-bc9f-d55f663a35ef"
      },
      "source": [
        "# importing packages\r\n",
        "import pandas as pd\r\n",
        "import re\r\n",
        "import numpy as np\r\n",
        "import seaborn as sns\r\n",
        "import matplotlib.pyplot as plt\r\n",
        "%matplotlib inline\r\n",
        "\r\n",
        "# sklearn packages\r\n",
        "from sklearn import metrics\r\n",
        "from sklearn.feature_extraction.text import TfidfVectorizer, CountVectorizer\r\n",
        "from sklearn.model_selection import train_test_split, GridSearchCV, cross_val_score, StratifiedKFold\r\n",
        "from sklearn.pipeline import Pipeline, FeatureUnion\r\n",
        "from sklearn.preprocessing import FunctionTransformer, StandardScaler\r\n",
        "from sklearn.base import BaseEstimator, TransformerMixin\r\n",
        "from sklearn.neighbors import KNeighborsClassifier\r\n",
        "from sklearn.tree import DecisionTreeClassifier\r\n",
        "from sklearn.ensemble import RandomForestClassifier, AdaBoostClassifier\r\n",
        "from sklearn.naive_bayes import MultinomialNB\r\n",
        "from sklearn.dummy import DummyClassifier\r\n",
        "from xgboost import XGBClassifier\r\n",
        "import xgboost as xgb\r\n",
        "\r\n",
        "# nltk packages\r\n",
        "import nltk\r\n",
        "from nltk import word_tokenize\r\n",
        "from nltk.stem import WordNetLemmatizer \r\n",
        "from nltk.corpus import stopwords\r\n",
        "nltk.download('punkt')\r\n",
        "from string import punctuation\r\n",
        "nltk.download('averaged_perceptron_tagger')\r\n",
        "nltk.download('wordnet')"
      ],
      "execution_count": 195,
      "outputs": [
        {
          "output_type": "stream",
          "text": [
            "[nltk_data] Downloading package punkt to /root/nltk_data...\n",
            "[nltk_data]   Package punkt is already up-to-date!\n",
            "[nltk_data] Downloading package averaged_perceptron_tagger to\n",
            "[nltk_data]     /root/nltk_data...\n",
            "[nltk_data]   Package averaged_perceptron_tagger is already up-to-\n",
            "[nltk_data]       date!\n",
            "[nltk_data] Downloading package wordnet to /root/nltk_data...\n",
            "[nltk_data]   Package wordnet is already up-to-date!\n"
          ],
          "name": "stdout"
        },
        {
          "output_type": "execute_result",
          "data": {
            "text/plain": [
              "True"
            ]
          },
          "metadata": {
            "tags": []
          },
          "execution_count": 195
        }
      ]
    },
    {
      "cell_type": "code",
      "metadata": {
        "colab": {
          "base_uri": "https://localhost:8080/",
          "height": 204
        },
        "id": "1G-aQdMshb0e",
        "outputId": "bfcba324-b193-43bb-c68f-919d434db83c"
      },
      "source": [
        "data = pd.read_csv('engData.csv', sep='\\t', encoding='utf-8',index_col=0) \r\n",
        "data.head()"
      ],
      "execution_count": 196,
      "outputs": [
        {
          "output_type": "execute_result",
          "data": {
            "text/html": [
              "<div>\n",
              "<style scoped>\n",
              "    .dataframe tbody tr th:only-of-type {\n",
              "        vertical-align: middle;\n",
              "    }\n",
              "\n",
              "    .dataframe tbody tr th {\n",
              "        vertical-align: top;\n",
              "    }\n",
              "\n",
              "    .dataframe thead th {\n",
              "        text-align: right;\n",
              "    }\n",
              "</style>\n",
              "<table border=\"1\" class=\"dataframe\">\n",
              "  <thead>\n",
              "    <tr style=\"text-align: right;\">\n",
              "      <th></th>\n",
              "      <th>sentence</th>\n",
              "      <th>tag</th>\n",
              "    </tr>\n",
              "  </thead>\n",
              "  <tbody>\n",
              "    <tr>\n",
              "      <th>0</th>\n",
              "      <td>I was in the mountains.</td>\n",
              "      <td>0</td>\n",
              "    </tr>\n",
              "    <tr>\n",
              "      <th>1</th>\n",
              "      <td>I never liked biology.</td>\n",
              "      <td>0</td>\n",
              "    </tr>\n",
              "    <tr>\n",
              "      <th>2</th>\n",
              "      <td>I didn't like it.</td>\n",
              "      <td>0</td>\n",
              "    </tr>\n",
              "    <tr>\n",
              "      <th>3</th>\n",
              "      <td>That wasn't my intention.</td>\n",
              "      <td>0</td>\n",
              "    </tr>\n",
              "    <tr>\n",
              "      <th>4</th>\n",
              "      <td>One million people lost their lives in the war.</td>\n",
              "      <td>0</td>\n",
              "    </tr>\n",
              "  </tbody>\n",
              "</table>\n",
              "</div>"
            ],
            "text/plain": [
              "                                          sentence  tag\n",
              "0                          I was in the mountains.    0\n",
              "1                           I never liked biology.    0\n",
              "2                                I didn't like it.    0\n",
              "3                        That wasn't my intention.    0\n",
              "4  One million people lost their lives in the war.    0"
            ]
          },
          "metadata": {
            "tags": []
          },
          "execution_count": 196
        }
      ]
    },
    {
      "cell_type": "code",
      "metadata": {
        "colab": {
          "base_uri": "https://localhost:8080/"
        },
        "id": "7NvnONz8id2S",
        "outputId": "9bb89b65-9b5f-4ef1-e2e2-b536140b1215"
      },
      "source": [
        "data.info()"
      ],
      "execution_count": 197,
      "outputs": [
        {
          "output_type": "stream",
          "text": [
            "<class 'pandas.core.frame.DataFrame'>\n",
            "Int64Index: 10649 entries, 0 to 10648\n",
            "Data columns (total 2 columns):\n",
            " #   Column    Non-Null Count  Dtype \n",
            "---  ------    --------------  ----- \n",
            " 0   sentence  10649 non-null  object\n",
            " 1   tag       10649 non-null  int64 \n",
            "dtypes: int64(1), object(1)\n",
            "memory usage: 249.6+ KB\n"
          ],
          "name": "stdout"
        }
      ]
    },
    {
      "cell_type": "code",
      "metadata": {
        "id": "cpWtERWkwgJF"
      },
      "source": [
        "data['sentence'] = data['sentence'].str.lower()\r\n"
      ],
      "execution_count": 198,
      "outputs": []
    },
    {
      "cell_type": "code",
      "metadata": {
        "id": "zNYzwsUywxzh"
      },
      "source": [
        "def unidecode_text(text):\r\n",
        "    try:\r\n",
        "        #pdb.set_trace()\r\n",
        "        text = unidecode.unidecode(text)\r\n",
        "    except:\r\n",
        "        pass\r\n",
        "    return text"
      ],
      "execution_count": 199,
      "outputs": []
    },
    {
      "cell_type": "code",
      "metadata": {
        "id": "JRlryYjFwyt4"
      },
      "source": [
        "data['sentence'] = data.apply(lambda row: unidecode_text(row['sentence']), axis=1)"
      ],
      "execution_count": 200,
      "outputs": []
    },
    {
      "cell_type": "code",
      "metadata": {
        "colab": {
          "base_uri": "https://localhost:8080/",
          "height": 204
        },
        "id": "gA4elFgFw_n2",
        "outputId": "41c14b89-f5bb-49ec-f098-6160bf702837"
      },
      "source": [
        "data.head()"
      ],
      "execution_count": 201,
      "outputs": [
        {
          "output_type": "execute_result",
          "data": {
            "text/html": [
              "<div>\n",
              "<style scoped>\n",
              "    .dataframe tbody tr th:only-of-type {\n",
              "        vertical-align: middle;\n",
              "    }\n",
              "\n",
              "    .dataframe tbody tr th {\n",
              "        vertical-align: top;\n",
              "    }\n",
              "\n",
              "    .dataframe thead th {\n",
              "        text-align: right;\n",
              "    }\n",
              "</style>\n",
              "<table border=\"1\" class=\"dataframe\">\n",
              "  <thead>\n",
              "    <tr style=\"text-align: right;\">\n",
              "      <th></th>\n",
              "      <th>sentence</th>\n",
              "      <th>tag</th>\n",
              "    </tr>\n",
              "  </thead>\n",
              "  <tbody>\n",
              "    <tr>\n",
              "      <th>0</th>\n",
              "      <td>i was in the mountains.</td>\n",
              "      <td>0</td>\n",
              "    </tr>\n",
              "    <tr>\n",
              "      <th>1</th>\n",
              "      <td>i never liked biology.</td>\n",
              "      <td>0</td>\n",
              "    </tr>\n",
              "    <tr>\n",
              "      <th>2</th>\n",
              "      <td>i didn't like it.</td>\n",
              "      <td>0</td>\n",
              "    </tr>\n",
              "    <tr>\n",
              "      <th>3</th>\n",
              "      <td>that wasn't my intention.</td>\n",
              "      <td>0</td>\n",
              "    </tr>\n",
              "    <tr>\n",
              "      <th>4</th>\n",
              "      <td>one million people lost their lives in the war.</td>\n",
              "      <td>0</td>\n",
              "    </tr>\n",
              "  </tbody>\n",
              "</table>\n",
              "</div>"
            ],
            "text/plain": [
              "                                          sentence  tag\n",
              "0                          i was in the mountains.    0\n",
              "1                           i never liked biology.    0\n",
              "2                                i didn't like it.    0\n",
              "3                        that wasn't my intention.    0\n",
              "4  one million people lost their lives in the war.    0"
            ]
          },
          "metadata": {
            "tags": []
          },
          "execution_count": 201
        }
      ]
    },
    {
      "cell_type": "code",
      "metadata": {
        "id": "fR7rQf8HyFQt"
      },
      "source": [
        "\r\n",
        "defTags = ['NN', 'NNS', 'NNP', 'NNPS', 'JJ', 'JJS', 'JJR']#, 'RB', 'RBS', 'RBR', 'VB', 'VBD', 'VBG', 'VBN', 'VBP', 'VBZ']\r\n",
        "\r\n",
        "# functions to determine the type of a word\r\n",
        "def is_noun(tag):\r\n",
        "    return tag in ['NN', 'NNS', 'NNP', 'NNPS']\r\n",
        "\r\n",
        "\r\n",
        "def is_verb(tag):\r\n",
        "    return tag in ['VB', 'VBD', 'VBG', 'VBN', 'VBP', 'VBZ']\r\n",
        "\r\n",
        "\r\n",
        "def is_adverb(tag):\r\n",
        "    return tag in ['RB', 'RBR', 'RBS']\r\n",
        "\r\n",
        "\r\n",
        "def is_adjective(tag):\r\n",
        "    return tag in ['JJ', 'JJR', 'JJS']\r\n",
        "\r\n",
        "# transform tag forms\r\n",
        "def penn_to_wn(tag):\r\n",
        "    if is_adjective(tag):\r\n",
        "        return nltk.stem.wordnet.wordnet.ADJ\r\n",
        "    elif is_noun(tag):\r\n",
        "        return nltk.stem.wordnet.wordnet.NOUN\r\n",
        "    elif is_adverb(tag):\r\n",
        "        return nltk.stem.wordnet.wordnet.ADV\r\n",
        "    elif is_verb(tag):\r\n",
        "        return nltk.stem.wordnet.wordnet.VERB\r\n",
        "    return nltk.stem.wordnet.wordnet.NOUN\r\n",
        "\r\n",
        "    # lemmatizer + tokenizer (+ stemming) class\r\n",
        "class LemmaTokenizer(object):\r\n",
        "    def __init__(self):\r\n",
        "        self.wnl = WordNetLemmatizer()\r\n",
        "        # we define (but not use) a stemming method, uncomment the last line in __call__ to get stemming tooo\r\n",
        "        self.stemmer = nltk.stem.SnowballStemmer('english') \r\n",
        "    def __call__(self, doc):\r\n",
        "        # pattern for numbers | words of length=2 | punctuations | words of length=1\r\n",
        "        pattern = re.compile(r'[0-9]+|\\b[\\w]{2,2}\\b|[%.,_`!\"&?\\')({~@;:#}+-]+|\\b[\\w]{1,1}\\b')\r\n",
        "        # tokenize document\r\n",
        "        doc_tok = word_tokenize(doc)\r\n",
        "        #filter out patterns from words\r\n",
        "        # doc_tok = [x for x in doc_tok if x not in stop_words1]\r\n",
        "        doc_tok = [pattern.sub('', x) for x in doc_tok]\r\n",
        "        # get rid of anything with length=1\r\n",
        "        doc_tok = [x for x in doc_tok if len(x) > 1]\r\n",
        "        # position tagging\r\n",
        "        doc_tagged = nltk.pos_tag(doc_tok)\r\n",
        "        # selecting nouns and adjectives\r\n",
        "        doc_tagged = [(t[0], t[1]) for t in doc_tagged if t[1] in defTags]\r\n",
        "        # preparing lemmatization\r\n",
        "        doc = [(t[0], penn_to_wn(t[1])) for t in doc_tagged]\r\n",
        "        # lemmatization\r\n",
        "        doc = [self.wnl.lemmatize(t[0], t[1]) for t in doc]\r\n",
        "        # uncomment if you want stemming as well\r\n",
        "        #doc = [self.stemmer.stem(x) for x in doc]\r\n",
        "        return doc"
      ],
      "execution_count": 202,
      "outputs": []
    },
    {
      "cell_type": "code",
      "metadata": {
        "id": "_Ox7FiFvyUQh"
      },
      "source": [
        "vec_tdidf = TfidfVectorizer(ngram_range=(1,1), analyzer='word', norm='l2', tokenizer=LemmaTokenizer())"
      ],
      "execution_count": 203,
      "outputs": []
    },
    {
      "cell_type": "code",
      "metadata": {
        "id": "gDdTk1B4zP6j"
      },
      "source": [
        "from sklearn.base import BaseEstimator, TransformerMixin\r\n",
        "class TextSelector(BaseEstimator, TransformerMixin):\r\n",
        "    \"\"\"\r\n",
        "    Transformer to select a single column from the data frame to perform additional transformations on\r\n",
        "    Use on text columns in the data\r\n",
        "    \"\"\"\r\n",
        "    def __init__(self, key):\r\n",
        "        self.key = key\r\n",
        "\r\n",
        "    def fit(self, X, y=None, *parg, **kwarg):\r\n",
        "        return self\r\n",
        "\r\n",
        "    def transform(self, X):\r\n",
        "        # returns the input as a string\r\n",
        "        return X[self.key]\r\n",
        "\r\n",
        "class NumberSelector(BaseEstimator, TransformerMixin):\r\n",
        "    \"\"\"\r\n",
        "    Transformer to select a single column from the data frame to perform additional transformations on\r\n",
        "    Use on numeric columns in the data\r\n",
        "    \"\"\"\r\n",
        "    def __init__(self, key):\r\n",
        "        self.key = key\r\n",
        "\r\n",
        "    def fit(self, X, y=None):\r\n",
        "        return self\r\n",
        "\r\n",
        "    def transform(self, X):\r\n",
        "        # returns the input as a dataframe\r\n",
        "        return X[[self.key]]"
      ],
      "execution_count": 204,
      "outputs": []
    },
    {
      "cell_type": "code",
      "metadata": {
        "id": "Fs055dda1CoF"
      },
      "source": [
        "from sklearn.pipeline import Pipeline, FeatureUnion\r\n",
        "text = Pipeline([\r\n",
        "                ('selector', TextSelector(key='sentence')),\r\n",
        "                ('vectorizer', vec_tdidf)\r\n",
        "                ])"
      ],
      "execution_count": 205,
      "outputs": []
    },
    {
      "cell_type": "code",
      "metadata": {
        "id": "QID3BUk-1fpx"
      },
      "source": [
        "clf = xgb.XGBClassifier(random_state=42, seed=2, colsample_bytree=0.6, subsample=0.7)"
      ],
      "execution_count": 206,
      "outputs": []
    },
    {
      "cell_type": "code",
      "metadata": {
        "id": "TN5gp62Y1UcQ"
      },
      "source": [
        "pipe = Pipeline([('feats', text),\r\n",
        "                 ('clf',clf)\r\n",
        "                 ])"
      ],
      "execution_count": 207,
      "outputs": []
    },
    {
      "cell_type": "code",
      "metadata": {
        "colab": {
          "base_uri": "https://localhost:8080/"
        },
        "id": "t9VDZvuc1mQU",
        "outputId": "c4e5d547-1a64-4b89-be45-c3e83701ca3d"
      },
      "source": [
        "pipe.named_steps['clf'].get_params()"
      ],
      "execution_count": 208,
      "outputs": [
        {
          "output_type": "execute_result",
          "data": {
            "text/plain": [
              "{'base_score': 0.5,\n",
              " 'booster': 'gbtree',\n",
              " 'colsample_bylevel': 1,\n",
              " 'colsample_bynode': 1,\n",
              " 'colsample_bytree': 0.6,\n",
              " 'gamma': 0,\n",
              " 'learning_rate': 0.1,\n",
              " 'max_delta_step': 0,\n",
              " 'max_depth': 3,\n",
              " 'min_child_weight': 1,\n",
              " 'missing': None,\n",
              " 'n_estimators': 100,\n",
              " 'n_jobs': 1,\n",
              " 'nthread': None,\n",
              " 'objective': 'binary:logistic',\n",
              " 'random_state': 42,\n",
              " 'reg_alpha': 0,\n",
              " 'reg_lambda': 1,\n",
              " 'scale_pos_weight': 1,\n",
              " 'seed': 2,\n",
              " 'silent': None,\n",
              " 'subsample': 0.7,\n",
              " 'verbosity': 1}"
            ]
          },
          "metadata": {
            "tags": []
          },
          "execution_count": 208
        }
      ]
    },
    {
      "cell_type": "code",
      "metadata": {
        "colab": {
          "base_uri": "https://localhost:8080/",
          "height": 419
        },
        "id": "5upWL_Qqjfpa",
        "outputId": "96dba39b-1ae5-4406-a492-6763b8e20e47"
      },
      "source": [
        "X = data.iloc[:, :1]\r\n",
        "Y = data.iloc[:, 1:]\r\n",
        "X"
      ],
      "execution_count": 209,
      "outputs": [
        {
          "output_type": "execute_result",
          "data": {
            "text/html": [
              "<div>\n",
              "<style scoped>\n",
              "    .dataframe tbody tr th:only-of-type {\n",
              "        vertical-align: middle;\n",
              "    }\n",
              "\n",
              "    .dataframe tbody tr th {\n",
              "        vertical-align: top;\n",
              "    }\n",
              "\n",
              "    .dataframe thead th {\n",
              "        text-align: right;\n",
              "    }\n",
              "</style>\n",
              "<table border=\"1\" class=\"dataframe\">\n",
              "  <thead>\n",
              "    <tr style=\"text-align: right;\">\n",
              "      <th></th>\n",
              "      <th>sentence</th>\n",
              "    </tr>\n",
              "  </thead>\n",
              "  <tbody>\n",
              "    <tr>\n",
              "      <th>0</th>\n",
              "      <td>i was in the mountains.</td>\n",
              "    </tr>\n",
              "    <tr>\n",
              "      <th>1</th>\n",
              "      <td>i never liked biology.</td>\n",
              "    </tr>\n",
              "    <tr>\n",
              "      <th>2</th>\n",
              "      <td>i didn't like it.</td>\n",
              "    </tr>\n",
              "    <tr>\n",
              "      <th>3</th>\n",
              "      <td>that wasn't my intention.</td>\n",
              "    </tr>\n",
              "    <tr>\n",
              "      <th>4</th>\n",
              "      <td>one million people lost their lives in the war.</td>\n",
              "    </tr>\n",
              "    <tr>\n",
              "      <th>...</th>\n",
              "      <td>...</td>\n",
              "    </tr>\n",
              "    <tr>\n",
              "      <th>10644</th>\n",
              "      <td>all i want is you.</td>\n",
              "    </tr>\n",
              "    <tr>\n",
              "      <th>10645</th>\n",
              "      <td>don't hesitate to ask if you want anything.</td>\n",
              "    </tr>\n",
              "    <tr>\n",
              "      <th>10646</th>\n",
              "      <td>take anything you want.</td>\n",
              "    </tr>\n",
              "    <tr>\n",
              "      <th>10647</th>\n",
              "      <td>don't confuse desire with love.</td>\n",
              "    </tr>\n",
              "    <tr>\n",
              "      <th>10648</th>\n",
              "      <td>is the bath clean?</td>\n",
              "    </tr>\n",
              "  </tbody>\n",
              "</table>\n",
              "<p>10649 rows × 1 columns</p>\n",
              "</div>"
            ],
            "text/plain": [
              "                                              sentence\n",
              "0                              i was in the mountains.\n",
              "1                               i never liked biology.\n",
              "2                                    i didn't like it.\n",
              "3                            that wasn't my intention.\n",
              "4      one million people lost their lives in the war.\n",
              "...                                                ...\n",
              "10644                               all i want is you.\n",
              "10645      don't hesitate to ask if you want anything.\n",
              "10646                          take anything you want.\n",
              "10647                  don't confuse desire with love.\n",
              "10648                               is the bath clean?\n",
              "\n",
              "[10649 rows x 1 columns]"
            ]
          },
          "metadata": {
            "tags": []
          },
          "execution_count": 209
        }
      ]
    },
    {
      "cell_type": "code",
      "metadata": {
        "id": "GI51m8OIjOcY"
      },
      "source": [
        "train_X, test_X, train_y, test_y = train_test_split(X, Y, test_size=0.3, stratify=Y, random_state=0)"
      ],
      "execution_count": 210,
      "outputs": []
    },
    {
      "cell_type": "code",
      "metadata": {
        "id": "9wX9p0fw12EM"
      },
      "source": [
        "param_grid = {\r\n",
        "     'clf__n_estimators': [50,100,300]}"
      ],
      "execution_count": 211,
      "outputs": []
    },
    {
      "cell_type": "code",
      "metadata": {
        "id": "rlai8Liq19ta"
      },
      "source": [
        "from sklearn.model_selection import GridSearchCV\r\n",
        "grid_search = GridSearchCV(estimator = pipe, param_grid = param_grid, \r\n",
        "                          cv = 3, n_jobs = 1, verbose = 0, return_train_score=True)"
      ],
      "execution_count": 212,
      "outputs": []
    },
    {
      "cell_type": "code",
      "metadata": {
        "colab": {
          "base_uri": "https://localhost:8080/"
        },
        "id": "WM5MwnaP2J55",
        "outputId": "0d218250-9cf6-4cd2-cd1a-ff3b5d238497"
      },
      "source": [
        "grid_search.fit(train_X, train_y)"
      ],
      "execution_count": 213,
      "outputs": [
        {
          "output_type": "stream",
          "text": [
            "/usr/local/lib/python3.7/dist-packages/sklearn/preprocessing/_label.py:235: DataConversionWarning: A column-vector y was passed when a 1d array was expected. Please change the shape of y to (n_samples, ), for example using ravel().\n",
            "  y = column_or_1d(y, warn=True)\n",
            "/usr/local/lib/python3.7/dist-packages/sklearn/preprocessing/_label.py:268: DataConversionWarning: A column-vector y was passed when a 1d array was expected. Please change the shape of y to (n_samples, ), for example using ravel().\n",
            "  y = column_or_1d(y, warn=True)\n",
            "/usr/local/lib/python3.7/dist-packages/sklearn/preprocessing/_label.py:235: DataConversionWarning: A column-vector y was passed when a 1d array was expected. Please change the shape of y to (n_samples, ), for example using ravel().\n",
            "  y = column_or_1d(y, warn=True)\n",
            "/usr/local/lib/python3.7/dist-packages/sklearn/preprocessing/_label.py:268: DataConversionWarning: A column-vector y was passed when a 1d array was expected. Please change the shape of y to (n_samples, ), for example using ravel().\n",
            "  y = column_or_1d(y, warn=True)\n",
            "/usr/local/lib/python3.7/dist-packages/sklearn/preprocessing/_label.py:235: DataConversionWarning: A column-vector y was passed when a 1d array was expected. Please change the shape of y to (n_samples, ), for example using ravel().\n",
            "  y = column_or_1d(y, warn=True)\n",
            "/usr/local/lib/python3.7/dist-packages/sklearn/preprocessing/_label.py:268: DataConversionWarning: A column-vector y was passed when a 1d array was expected. Please change the shape of y to (n_samples, ), for example using ravel().\n",
            "  y = column_or_1d(y, warn=True)\n",
            "/usr/local/lib/python3.7/dist-packages/sklearn/preprocessing/_label.py:235: DataConversionWarning: A column-vector y was passed when a 1d array was expected. Please change the shape of y to (n_samples, ), for example using ravel().\n",
            "  y = column_or_1d(y, warn=True)\n",
            "/usr/local/lib/python3.7/dist-packages/sklearn/preprocessing/_label.py:268: DataConversionWarning: A column-vector y was passed when a 1d array was expected. Please change the shape of y to (n_samples, ), for example using ravel().\n",
            "  y = column_or_1d(y, warn=True)\n",
            "/usr/local/lib/python3.7/dist-packages/sklearn/preprocessing/_label.py:235: DataConversionWarning: A column-vector y was passed when a 1d array was expected. Please change the shape of y to (n_samples, ), for example using ravel().\n",
            "  y = column_or_1d(y, warn=True)\n",
            "/usr/local/lib/python3.7/dist-packages/sklearn/preprocessing/_label.py:268: DataConversionWarning: A column-vector y was passed when a 1d array was expected. Please change the shape of y to (n_samples, ), for example using ravel().\n",
            "  y = column_or_1d(y, warn=True)\n",
            "/usr/local/lib/python3.7/dist-packages/sklearn/preprocessing/_label.py:235: DataConversionWarning: A column-vector y was passed when a 1d array was expected. Please change the shape of y to (n_samples, ), for example using ravel().\n",
            "  y = column_or_1d(y, warn=True)\n",
            "/usr/local/lib/python3.7/dist-packages/sklearn/preprocessing/_label.py:268: DataConversionWarning: A column-vector y was passed when a 1d array was expected. Please change the shape of y to (n_samples, ), for example using ravel().\n",
            "  y = column_or_1d(y, warn=True)\n",
            "/usr/local/lib/python3.7/dist-packages/sklearn/preprocessing/_label.py:235: DataConversionWarning: A column-vector y was passed when a 1d array was expected. Please change the shape of y to (n_samples, ), for example using ravel().\n",
            "  y = column_or_1d(y, warn=True)\n",
            "/usr/local/lib/python3.7/dist-packages/sklearn/preprocessing/_label.py:268: DataConversionWarning: A column-vector y was passed when a 1d array was expected. Please change the shape of y to (n_samples, ), for example using ravel().\n",
            "  y = column_or_1d(y, warn=True)\n",
            "/usr/local/lib/python3.7/dist-packages/sklearn/preprocessing/_label.py:235: DataConversionWarning: A column-vector y was passed when a 1d array was expected. Please change the shape of y to (n_samples, ), for example using ravel().\n",
            "  y = column_or_1d(y, warn=True)\n",
            "/usr/local/lib/python3.7/dist-packages/sklearn/preprocessing/_label.py:268: DataConversionWarning: A column-vector y was passed when a 1d array was expected. Please change the shape of y to (n_samples, ), for example using ravel().\n",
            "  y = column_or_1d(y, warn=True)\n",
            "/usr/local/lib/python3.7/dist-packages/sklearn/preprocessing/_label.py:235: DataConversionWarning: A column-vector y was passed when a 1d array was expected. Please change the shape of y to (n_samples, ), for example using ravel().\n",
            "  y = column_or_1d(y, warn=True)\n",
            "/usr/local/lib/python3.7/dist-packages/sklearn/preprocessing/_label.py:268: DataConversionWarning: A column-vector y was passed when a 1d array was expected. Please change the shape of y to (n_samples, ), for example using ravel().\n",
            "  y = column_or_1d(y, warn=True)\n",
            "/usr/local/lib/python3.7/dist-packages/sklearn/preprocessing/_label.py:235: DataConversionWarning: A column-vector y was passed when a 1d array was expected. Please change the shape of y to (n_samples, ), for example using ravel().\n",
            "  y = column_or_1d(y, warn=True)\n",
            "/usr/local/lib/python3.7/dist-packages/sklearn/preprocessing/_label.py:268: DataConversionWarning: A column-vector y was passed when a 1d array was expected. Please change the shape of y to (n_samples, ), for example using ravel().\n",
            "  y = column_or_1d(y, warn=True)\n"
          ],
          "name": "stderr"
        },
        {
          "output_type": "execute_result",
          "data": {
            "text/plain": [
              "GridSearchCV(cv=3, error_score=nan,\n",
              "             estimator=Pipeline(memory=None,\n",
              "                                steps=[('feats',\n",
              "                                        Pipeline(memory=None,\n",
              "                                                 steps=[('selector',\n",
              "                                                         TextSelector(key='sentence')),\n",
              "                                                        ('vectorizer',\n",
              "                                                         TfidfVectorizer(analyzer='word',\n",
              "                                                                         binary=False,\n",
              "                                                                         decode_error='strict',\n",
              "                                                                         dtype=<class 'numpy.float64'>,\n",
              "                                                                         encoding='utf-8',\n",
              "                                                                         input='content',\n",
              "                                                                         lowercase=True,\n",
              "                                                                         max_df=1.0,\n",
              "                                                                         max_features=None,\n",
              "                                                                         min_df=1,\n",
              "                                                                         ngr...\n",
              "                                                      missing=None,\n",
              "                                                      n_estimators=100,\n",
              "                                                      n_jobs=1, nthread=None,\n",
              "                                                      objective='binary:logistic',\n",
              "                                                      random_state=42,\n",
              "                                                      reg_alpha=0, reg_lambda=1,\n",
              "                                                      scale_pos_weight=1,\n",
              "                                                      seed=2, silent=None,\n",
              "                                                      subsample=0.7,\n",
              "                                                      verbosity=1))],\n",
              "                                verbose=False),\n",
              "             iid='deprecated', n_jobs=1,\n",
              "             param_grid={'clf__n_estimators': [50, 100, 300]},\n",
              "             pre_dispatch='2*n_jobs', refit=True, return_train_score=True,\n",
              "             scoring=None, verbose=0)"
            ]
          },
          "metadata": {
            "tags": []
          },
          "execution_count": 213
        }
      ]
    },
    {
      "cell_type": "code",
      "metadata": {
        "colab": {
          "base_uri": "https://localhost:8080/"
        },
        "id": "Vwx4vQlQ5Rn7",
        "outputId": "e46989e5-3125-4628-9d14-e22862039570"
      },
      "source": [
        "grid_search.cv_results_['mean_train_score']"
      ],
      "execution_count": 214,
      "outputs": [
        {
          "output_type": "execute_result",
          "data": {
            "text/plain": [
              "array([0.6487792 , 0.65676157, 0.6760799 ])"
            ]
          },
          "metadata": {
            "tags": []
          },
          "execution_count": 214
        }
      ]
    },
    {
      "cell_type": "code",
      "metadata": {
        "colab": {
          "base_uri": "https://localhost:8080/"
        },
        "id": "nAOmyiO_5iJg",
        "outputId": "a5a21f4c-fe5b-4b03-9e92-1f13312092e3"
      },
      "source": [
        "grid_search.cv_results_['mean_test_score']"
      ],
      "execution_count": 215,
      "outputs": [
        {
          "output_type": "execute_result",
          "data": {
            "text/plain": [
              "array([0.64596095, 0.64958257, 0.65441306])"
            ]
          },
          "metadata": {
            "tags": []
          },
          "execution_count": 215
        }
      ]
    },
    {
      "cell_type": "code",
      "metadata": {
        "colab": {
          "base_uri": "https://localhost:8080/"
        },
        "id": "qwzxvfGy5mDf",
        "outputId": "53ca4a8b-bc61-4034-b7d9-431fc53f2c90"
      },
      "source": [
        "grid_search.best_params_"
      ],
      "execution_count": 216,
      "outputs": [
        {
          "output_type": "execute_result",
          "data": {
            "text/plain": [
              "{'clf__n_estimators': 300}"
            ]
          },
          "metadata": {
            "tags": []
          },
          "execution_count": 216
        }
      ]
    },
    {
      "cell_type": "code",
      "metadata": {
        "id": "Nieku28m5rab"
      },
      "source": [
        "clf_test = grid_search.best_estimator_"
      ],
      "execution_count": 217,
      "outputs": []
    },
    {
      "cell_type": "code",
      "metadata": {
        "id": "Pf64wQ_b5urh"
      },
      "source": [
        "preds = clf_test.predict(test_X)"
      ],
      "execution_count": 218,
      "outputs": []
    },
    {
      "cell_type": "code",
      "metadata": {
        "id": "RevSBTqT6Df3"
      },
      "source": [
        "def print_stats(preds, target, labels, sep='-', sep_len=40, fig_size=(10,8)):\r\n",
        "    print('Accuracy = %.3f' % metrics.accuracy_score(target, preds))\r\n",
        "    print(sep*sep_len)\r\n",
        "    print('Classification report:')\r\n",
        "    print(metrics.classification_report(target, preds))\r\n",
        "    print(sep*sep_len)\r\n",
        "    print('Confusion matrix')\r\n",
        "    cm=metrics.confusion_matrix(target, preds)\r\n",
        "    cm = cm / np.sum(cm, axis=1)[:,None]\r\n",
        "    sns.set(rc={'figure.figsize':fig_size})\r\n",
        "    sns.heatmap(cm, \r\n",
        "        xticklabels=labels,\r\n",
        "        yticklabels=labels,\r\n",
        "           annot=True, cmap = 'YlGnBu')\r\n",
        "    plt.pause(0.05)"
      ],
      "execution_count": 219,
      "outputs": []
    },
    {
      "cell_type": "code",
      "metadata": {
        "colab": {
          "base_uri": "https://localhost:8080/",
          "height": 723
        },
        "id": "NPvXd-LH54YJ",
        "outputId": "8023e3e7-facf-4569-ebdc-e520a644590b"
      },
      "source": [
        "print_stats(test_y, preds, clf_test.classes_)"
      ],
      "execution_count": 220,
      "outputs": [
        {
          "output_type": "stream",
          "text": [
            "Accuracy = 0.666\n",
            "----------------------------------------\n",
            "Classification report:\n",
            "              precision    recall  f1-score   support\n",
            "\n",
            "           0       0.41      0.91      0.57       769\n",
            "           1       0.95      0.59      0.73      2426\n",
            "\n",
            "    accuracy                           0.67      3195\n",
            "   macro avg       0.68      0.75      0.65      3195\n",
            "weighted avg       0.82      0.67      0.69      3195\n",
            "\n",
            "----------------------------------------\n",
            "Confusion matrix\n"
          ],
          "name": "stdout"
        },
        {
          "output_type": "display_data",
          "data": {
            "image/png": "[encoded data removed]",
            "text/plain": [
              "<Figure size 720x576 with 2 Axes>"
            ]
          },
          "metadata": {
            "tags": []
          }
        }
      ]
    },
    {
      "cell_type": "code",
      "metadata": {
        "colab": {
          "base_uri": "https://localhost:8080/"
        },
        "id": "Pt1I-h3k9Z35",
        "outputId": "20436aa6-f477-45e4-ac95-96e607a7eb34"
      },
      "source": [
        "headers = list(test_X)\r\n",
        "input_variable = pd.DataFrame([\"I understand you.\"],\r\n",
        "                                columns=headers, \r\n",
        "                                dtype=object,\r\n",
        "                                index=['input'])\r\n",
        "prediction = clf_test.predict(input_variable)\r\n",
        "print(\"Prediction: \", prediction)"
      ],
      "execution_count": 221,
      "outputs": [
        {
          "output_type": "stream",
          "text": [
            "Prediction:  [1]\n"
          ],
          "name": "stdout"
        }
      ]
    }
  ]
}